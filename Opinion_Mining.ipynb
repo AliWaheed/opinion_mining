{
 "cells": [
  {
   "cell_type": "code",
   "execution_count": 1,
   "metadata": {},
   "outputs": [],
   "source": [
    "from nltk.tag import StanfordPOSTagger\n",
    "import pandas as pd\n",
    "import numpy as np\n",
    "import os\n",
    "import re\n",
    "import time\n",
    "\n",
    "reviews = []\n",
    "\n",
    "with open('dataset/Nokia_6610.txt','r') as f:\n",
    "    reviews = f.read()"
   ]
  },
  {
   "cell_type": "code",
   "execution_count": 2,
   "metadata": {},
   "outputs": [],
   "source": [
    "reviews_tagged = reviews.split('[t]')"
   ]
  },
  {
   "cell_type": "code",
   "execution_count": 3,
   "metadata": {},
   "outputs": [],
   "source": [
    "reviews_labeled = []\n",
    "\n",
    "for j in reviews_tagged:\n",
    "    test = j.split('\\n')\n",
    "    for i in test:\n",
    "        if '[' in i:\n",
    "            reviews_labeled.append(i)"
   ]
  },
  {
   "cell_type": "code",
   "execution_count": 4,
   "metadata": {},
   "outputs": [],
   "source": [
    "data = []\n",
    "\n",
    "for i in reviews_labeled:\n",
    "    \n",
    "    review = i.split('##')\n",
    "    \n",
    "    labels = review[0]\n",
    "    sentence = review[1].strip()\n",
    "    \n",
    "    labels_temp = labels.split(',')\n",
    "    \n",
    "    labels = ', '.join([i.split('[')[0] for i in labels_temp])\n",
    "    \n",
    "    data.append([sentence,labels])"
   ]
  },
  {
   "cell_type": "code",
   "execution_count": 5,
   "metadata": {},
   "outputs": [
    {
     "data": {
      "text/html": [
       "<div>\n",
       "<style scoped>\n",
       "    .dataframe tbody tr th:only-of-type {\n",
       "        vertical-align: middle;\n",
       "    }\n",
       "\n",
       "    .dataframe tbody tr th {\n",
       "        vertical-align: top;\n",
       "    }\n",
       "\n",
       "    .dataframe thead th {\n",
       "        text-align: right;\n",
       "    }\n",
       "</style>\n",
       "<table border=\"1\" class=\"dataframe\">\n",
       "  <thead>\n",
       "    <tr style=\"text-align: right;\">\n",
       "      <th></th>\n",
       "      <th>Sentence</th>\n",
       "      <th>Labels</th>\n",
       "    </tr>\n",
       "  </thead>\n",
       "  <tbody>\n",
       "    <tr>\n",
       "      <th>0</th>\n",
       "      <td>there is much which has been said in other rev...</td>\n",
       "      <td>phone,  work</td>\n",
       "    </tr>\n",
       "    <tr>\n",
       "      <th>1</th>\n",
       "      <td>after several years of torture in the hands of...</td>\n",
       "      <td>at&amp;t customer service</td>\n",
       "    </tr>\n",
       "    <tr>\n",
       "      <th>2</th>\n",
       "      <td>i have had the phone for 1 week , the signal q...</td>\n",
       "      <td>signal quality</td>\n",
       "    </tr>\n",
       "    <tr>\n",
       "      <th>3</th>\n",
       "      <td>my favorite features , although there are many...</td>\n",
       "      <td>speaker phone, radio, infrared</td>\n",
       "    </tr>\n",
       "    <tr>\n",
       "      <th>4</th>\n",
       "      <td>the speaker phone is very functional and i use...</td>\n",
       "      <td>speaker phone</td>\n",
       "    </tr>\n",
       "  </tbody>\n",
       "</table>\n",
       "</div>"
      ],
      "text/plain": [
       "                                            Sentence  \\\n",
       "0  there is much which has been said in other rev...   \n",
       "1  after several years of torture in the hands of...   \n",
       "2  i have had the phone for 1 week , the signal q...   \n",
       "3  my favorite features , although there are many...   \n",
       "4  the speaker phone is very functional and i use...   \n",
       "\n",
       "                           Labels  \n",
       "0                    phone,  work  \n",
       "1           at&t customer service  \n",
       "2                  signal quality  \n",
       "3  speaker phone, radio, infrared  \n",
       "4                   speaker phone  "
      ]
     },
     "execution_count": 5,
     "metadata": {},
     "output_type": "execute_result"
    }
   ],
   "source": [
    "nokia_6610_df = pd.DataFrame(data, columns = ['Sentence','Labels'])\n",
    "\n",
    "nokia_6610_df.head()"
   ]
  },
  {
   "cell_type": "code",
   "execution_count": 6,
   "metadata": {},
   "outputs": [],
   "source": [
    "stanford_dir = \"stanford-postagger-full-2018-10-16/\"\n",
    "modelfile = stanford_dir + \"/models/english-bidirectional-distsim.tagger\"\n",
    "jarfile = stanford_dir + \"/stanford-postagger.jar\""
   ]
  },
  {
   "cell_type": "code",
   "execution_count": 7,
   "metadata": {},
   "outputs": [],
   "source": [
    "tagger = StanfordPOSTagger(model_filename=modelfile, path_to_jar=jarfile)"
   ]
  },
  {
   "cell_type": "code",
   "execution_count": 8,
   "metadata": {},
   "outputs": [
    {
     "name": "stdout",
     "output_type": "stream",
     "text": [
      "Time taken: 3.5497653166453045 mins\n",
      "265\n"
     ]
    }
   ],
   "source": [
    "start_time = time.time()\n",
    "\n",
    "for i in range(len(nokia_6610_df['Sentence'])):\n",
    "    nokia_6610_df['Sentence'][i] = tagger.tag(nokia_6610_df['Sentence'][i].split())\n",
    "    \n",
    "print(\"Time taken:\", str((time.time() - start_time)/60) + ' mins')\n",
    "print(len(nokia_6610_df['Sentence']))"
   ]
  },
  {
   "cell_type": "code",
   "execution_count": 9,
   "metadata": {},
   "outputs": [
    {
     "data": {
      "text/html": [
       "<div>\n",
       "<style scoped>\n",
       "    .dataframe tbody tr th:only-of-type {\n",
       "        vertical-align: middle;\n",
       "    }\n",
       "\n",
       "    .dataframe tbody tr th {\n",
       "        vertical-align: top;\n",
       "    }\n",
       "\n",
       "    .dataframe thead th {\n",
       "        text-align: right;\n",
       "    }\n",
       "</style>\n",
       "<table border=\"1\" class=\"dataframe\">\n",
       "  <thead>\n",
       "    <tr style=\"text-align: right;\">\n",
       "      <th></th>\n",
       "      <th>Sentence</th>\n",
       "      <th>Labels</th>\n",
       "    </tr>\n",
       "  </thead>\n",
       "  <tbody>\n",
       "    <tr>\n",
       "      <th>0</th>\n",
       "      <td>[(there, EX), (is, VBZ), (much, RB), (which, W...</td>\n",
       "      <td>phone,  work</td>\n",
       "    </tr>\n",
       "    <tr>\n",
       "      <th>1</th>\n",
       "      <td>[(after, IN), (several, JJ), (years, NNS), (of...</td>\n",
       "      <td>at&amp;t customer service</td>\n",
       "    </tr>\n",
       "    <tr>\n",
       "      <th>2</th>\n",
       "      <td>[(i, LS), (have, VBP), (had, VBN), (the, DT), ...</td>\n",
       "      <td>signal quality</td>\n",
       "    </tr>\n",
       "    <tr>\n",
       "      <th>3</th>\n",
       "      <td>[(my, PRP$), (favorite, JJ), (features, NNS), ...</td>\n",
       "      <td>speaker phone, radio, infrared</td>\n",
       "    </tr>\n",
       "    <tr>\n",
       "      <th>4</th>\n",
       "      <td>[(the, DT), (speaker, NN), (phone, NN), (is, V...</td>\n",
       "      <td>speaker phone</td>\n",
       "    </tr>\n",
       "  </tbody>\n",
       "</table>\n",
       "</div>"
      ],
      "text/plain": [
       "                                            Sentence  \\\n",
       "0  [(there, EX), (is, VBZ), (much, RB), (which, W...   \n",
       "1  [(after, IN), (several, JJ), (years, NNS), (of...   \n",
       "2  [(i, LS), (have, VBP), (had, VBN), (the, DT), ...   \n",
       "3  [(my, PRP$), (favorite, JJ), (features, NNS), ...   \n",
       "4  [(the, DT), (speaker, NN), (phone, NN), (is, V...   \n",
       "\n",
       "                           Labels  \n",
       "0                    phone,  work  \n",
       "1           at&t customer service  \n",
       "2                  signal quality  \n",
       "3  speaker phone, radio, infrared  \n",
       "4                   speaker phone  "
      ]
     },
     "execution_count": 9,
     "metadata": {},
     "output_type": "execute_result"
    }
   ],
   "source": [
    "nokia_6610_df.head()"
   ]
  },
  {
   "cell_type": "code",
   "execution_count": 136,
   "metadata": {},
   "outputs": [
    {
     "data": {
      "text/plain": [
       "'phone,  work'"
      ]
     },
     "execution_count": 136,
     "metadata": {},
     "output_type": "execute_result"
    }
   ],
   "source": [
    "sample = nokia_6610_df['Labels'][0]\n",
    "sample"
   ]
  },
  {
   "cell_type": "code",
   "execution_count": 137,
   "metadata": {},
   "outputs": [
    {
     "data": {
      "text/plain": [
       "[('there', 'EX'),\n",
       " ('is', 'VBZ'),\n",
       " ('much', 'RB'),\n",
       " ('which', 'WDT'),\n",
       " ('has', 'VBZ'),\n",
       " ('been', 'VBN'),\n",
       " ('said', 'VBN'),\n",
       " ('in', 'IN'),\n",
       " ('other', 'JJ'),\n",
       " ('reviews', 'NNS'),\n",
       " ('about', 'IN'),\n",
       " ('the', 'DT'),\n",
       " ('features', 'NNS'),\n",
       " ('of', 'IN'),\n",
       " ('this', 'DT'),\n",
       " ('phone', 'NN'),\n",
       " (',', ','),\n",
       " ('it', 'PRP'),\n",
       " ('is', 'VBZ'),\n",
       " ('a', 'DT'),\n",
       " ('great', 'JJ'),\n",
       " ('phone', 'NN'),\n",
       " (',', ','),\n",
       " ('mine', 'NN'),\n",
       " ('worked', 'VBD'),\n",
       " ('without', 'IN'),\n",
       " ('any', 'DT'),\n",
       " ('problems', 'NNS'),\n",
       " ('right', 'RB'),\n",
       " ('out', 'IN'),\n",
       " ('of', 'IN'),\n",
       " ('the', 'DT'),\n",
       " ('box', 'NN'),\n",
       " ('.', '.')]"
      ]
     },
     "execution_count": 137,
     "metadata": {},
     "output_type": "execute_result"
    }
   ],
   "source": [
    "sample = nokia_6610_df['Sentence'][0]\n",
    "sample"
   ]
  },
  {
   "cell_type": "code",
   "execution_count": 138,
   "metadata": {},
   "outputs": [],
   "source": [
    "#CODE FOR RULE TWO HERE\n",
    "    \n",
    "    "
   ]
  },
  {
   "cell_type": "code",
   "execution_count": 140,
   "metadata": {},
   "outputs": [],
   "source": [
    "# for i in sample:\n",
    "#     if 'NN' in i[1] and list_vb == [] and list_jj == []:\n",
    "#         list_nn.append(i[0])\n",
    "        \n",
    "#     elif 'VB' in i[1] and list_nn != [] and list_jj == []:\n",
    "#         list_vb.append(i[0])\n",
    "        \n",
    "#     elif 'JJ' in i[1] and list_vb !=[] and list_nn != []:\n",
    "#         list_jj.append(i[0])\n",
    "\n",
    "\n",
    "list_nn = []\n",
    "list_vb = []\n",
    "list_jj = []\n",
    "list_prp = []\n",
    "\n",
    "for i in range(len(sample)):\n",
    "    \n",
    "#     if 'PRP' in sample[i][1]:\n",
    "#         prp, nn, vb, jj = apply_rule_two(list_prp,i)\n",
    "        \n",
    "#         if prp != [] and nn != [] and vb != [] and jj != []:\n",
    "#             list_nn.extend(nn)\n",
    "#             list_vb.extend(vb)\n",
    "#             list_jj.extend(jj)\n",
    "#             list_prp.extend(prp)\n",
    "    \n",
    "    if 'NN' in sample[i][1]:\n",
    "        \n",
    "        flag_vb = False\n",
    "        flag_adj = False\n",
    "        \n",
    "        for j in range(i,len(sample)):\n",
    "            if 'VB' in sample[j][1] or flag_vb == True:\n",
    "                flag_vb = True\n",
    "                if 'JJ' in sample[j][1]:\n",
    "                    flag_adj = True\n",
    "                    break\n",
    "        \n",
    "        if flag_vb == True and flag_adj == True:\n",
    "            list_nn.append(sample[i])\n",
    "        \n",
    "    elif 'VB' in sample[i][1]:\n",
    "        flag_nn = False\n",
    "        flag_adj = False\n",
    "        \n",
    "        for j in range(i):\n",
    "            if 'NN' in sample[j][1]:\n",
    "                flag_nn = True\n",
    "                break\n",
    "                \n",
    "        for j in range(i,len(sample)):\n",
    "            if 'JJ' in sample[j][1]:\n",
    "                flag_adj = True\n",
    "                break\n",
    "        \n",
    "        if flag_nn == True and flag_adj == True:\n",
    "            list_vb.append(sample[i])\n",
    "        \n",
    "    elif 'JJ' in sample[i][1]:\n",
    "        \n",
    "        flag_nn = False\n",
    "        flag_vb = False\n",
    "        \n",
    "        for j in range(i):\n",
    "            if 'NN' in sample[j][1] or flag_nn == True:\n",
    "                flag_nn = True\n",
    "                if 'VB' in sample[j][1]:\n",
    "                    flag_vb = True\n",
    "                    break\n",
    "        \n",
    "        if flag_nn == True and flag_vb == True:\n",
    "            list_jj.append(sample[i])\n",
    "    "
   ]
  },
  {
   "cell_type": "code",
   "execution_count": 141,
   "metadata": {},
   "outputs": [
    {
     "data": {
      "text/plain": [
       "[('reviews', 'NNS'), ('features', 'NNS'), ('phone', 'NN')]"
      ]
     },
     "execution_count": 141,
     "metadata": {},
     "output_type": "execute_result"
    }
   ],
   "source": [
    "list_nn"
   ]
  },
  {
   "cell_type": "code",
   "execution_count": 142,
   "metadata": {},
   "outputs": [
    {
     "data": {
      "text/plain": [
       "[('is', 'VBZ')]"
      ]
     },
     "execution_count": 142,
     "metadata": {},
     "output_type": "execute_result"
    }
   ],
   "source": [
    "list_vb"
   ]
  },
  {
   "cell_type": "code",
   "execution_count": 143,
   "metadata": {},
   "outputs": [
    {
     "data": {
      "text/plain": [
       "[('great', 'JJ')]"
      ]
     },
     "execution_count": 143,
     "metadata": {},
     "output_type": "execute_result"
    }
   ],
   "source": [
    "list_jj"
   ]
  },
  {
   "cell_type": "code",
   "execution_count": null,
   "metadata": {},
   "outputs": [],
   "source": [
    "list_nn = []\n",
    "list_vb = []\n",
    "list_jj = []\n",
    "\n",
    "for i in sample:\n",
    "    "
   ]
  },
  {
   "cell_type": "code",
   "execution_count": null,
   "metadata": {},
   "outputs": [],
   "source": []
  },
  {
   "cell_type": "code",
   "execution_count": 80,
   "metadata": {},
   "outputs": [
    {
     "name": "stdout",
     "output_type": "stream",
     "text": [
      "[('after', 'IN'), ('several', 'JJ'), ('years', 'NNS'), ('of', 'IN'), ('torture', 'VBP'), ('in', 'IN'), ('the', 'DT'), ('hands', 'NNS'), ('of', 'IN'), ('at&t', 'NN'), ('customer', 'NN'), ('service', 'NN'), ('i', 'LS'), ('am', 'RB'), ('delighted', 'JJ'), ('to', 'TO'), ('drop', 'VB'), ('them', 'PRP'), (',', ','), ('and', 'CC'), ('look', 'VB'), ('forward', 'RB'), ('to', 'TO'), ('august', 'NNP'), ('2004', 'CD'), ('when', 'WRB'), ('i', 'LS'), ('will', 'MD'), ('convert', 'VB'), ('our', 'PRP$'), ('other', 'JJ'), ('3', 'CD'), ('family-phones', 'NNS'), ('from', 'IN'), ('at&t', 'NN'), ('to', 'TO'), ('t-mobile', 'NN'), ('!', '.')]\n",
      "\n",
      "\n",
      "\n",
      "[('i', 'LS'), ('have', 'VBP'), ('had', 'VBN'), ('the', 'DT'), ('phone', 'NN'), ('for', 'IN'), ('1', 'CD'), ('week', 'NN'), (',', ','), ('the', 'DT'), ('signal', 'NN'), ('quality', 'NN'), ('has', 'VBZ'), ('been', 'VBN'), ('great', 'JJ'), ('in', 'IN'), ('the', 'DT'), ('detroit', 'NN'), ('area', 'NN'), ('(', 'CD'), ('suburbs', 'NNS'), (')', 'NN'), ('and', 'CC'), ('in', 'IN'), ('my', 'PRP$'), ('recent', 'JJ'), ('road', 'NN'), ('trip', 'NN'), ('between', 'IN'), ('detroit', 'NN'), ('and', 'CC'), ('northern', 'JJ'), ('kentucky', 'FW'), ('(', 'FW'), ('cincinnati', 'FW'), (')', 'FW'), ('i', 'FW'), ('experienced', 'JJ'), ('perfect', 'JJ'), ('signal', 'NN'), ('and', 'CC'), ('reception', 'NN'), ('along', 'IN'), ('i-75', 'NN'), (',', ','), ('far', 'RB'), ('superior', 'JJ'), ('to', 'TO'), ('at', 'IN'), ('&#38;', 'CD'), ('t', 'NN'), (\"'s\", 'POS'), ('which', 'WDT'), ('does', 'VBZ'), ('not', 'RB'), ('work', 'VB'), ('along', 'IN'), ('several', 'JJ'), ('long', 'JJ'), ('stretches', 'NNS'), ('on', 'IN'), ('that', 'DT'), ('same', 'JJ'), ('route', 'NN'), ('.', '.')]\n",
      "\n",
      "\n",
      "\n",
      "[('my', 'PRP$'), ('favorite', 'JJ'), ('features', 'NNS'), (',', ','), ('although', 'IN'), ('there', 'EX'), ('are', 'VBP'), ('many', 'JJ'), (',', ','), ('are', 'VBP'), ('the', 'DT'), ('speaker', 'NN'), ('phone', 'NN'), (',', ','), ('the', 'DT'), ('radio', 'NN'), ('and', 'CC'), ('the', 'DT'), ('infrared', 'NN'), ('.', '.')]\n",
      "\n",
      "\n",
      "\n",
      "[('the', 'DT'), ('infrared', 'NN'), ('is', 'VBZ'), ('a', 'DT'), ('blessing', 'NN'), ('if', 'IN'), ('you', 'PRP'), ('have', 'VBP'), ('a', 'DT'), ('previous', 'JJ'), ('nokia', 'NN'), ('and', 'CC'), ('want', 'VBP'), ('to', 'TO'), ('transfer', 'VB'), ('your', 'PRP$'), ('old', 'JJ'), ('phone', 'NN'), ('book', 'NN'), ('to', 'TO'), ('this', 'DT'), ('phone', 'NN'), (',', ','), ('saved', 'VBD'), ('me', 'PRP'), ('hours', 'NNS'), ('of', 'IN'), ('re-entering', 'VBG'), ('my', 'PRP$'), ('numbers', 'NNS'), ('.', '.')]\n",
      "\n",
      "\n",
      "\n",
      "[('it', 'PRP'), ('has', 'VBZ'), ('lots', 'NNS'), ('of', 'IN'), ('little', 'JJ'), ('cute', 'JJ'), ('features', 'NNS'), (',', ','), ('my', 'PRP$'), ('favorite', 'NN'), ('being', 'VBG'), ('the', 'DT'), ('games', 'NNS'), ('and', 'CC'), ('the', 'DT'), ('pim', 'FW'), ('(', 'FW'), ('personal', 'JJ'), ('information', 'NN'), ('manager', 'NN'), ('--', ':'), ('i.e.', 'FW'), ('organizer', 'NN'), (')', 'NN'), (',', ','), ('and', 'CC'), ('the', 'DT'), ('radio', 'NN'), ('!', '.')]\n",
      "\n",
      "\n",
      "\n",
      "[('the', 'DT'), ('buttons', 'NNS'), ('on', 'IN'), ('the', 'DT'), ('phone', 'NN'), ('are', 'VBP'), ('small', 'JJ'), (',', ','), ('even', 'RB'), ('for', 'IN'), ('my', 'PRP$'), ('small', 'JJ'), ('fingertips', 'NNS'), (',', ','), ('but', 'CC'), ('you', 'PRP'), ('get', 'VBP'), ('used', 'VBN'), ('to', 'TO'), ('them', 'PRP'), ('rather', 'RB'), ('quickly', 'RB'), ('.', '.')]\n",
      "\n",
      "\n",
      "\n",
      "[('the', 'DT'), ('menu', 'NN'), ('options', 'NNS'), ('are', 'VBP'), ('uncreative', 'JJ'), (',', ','), ('as', 'IN'), ('you', 'PRP'), ('can', 'MD'), (\"'t\", 'VB'), ('see', 'VB'), ('a', 'DT'), ('full', 'JJ'), ('screen', 'NN'), ('of', 'IN'), ('menu', 'NN'), ('items', 'NNS'), ('to', 'TO'), ('pick', 'VB'), ('from', 'IN'), (';', ':'), ('you', 'PRP'), ('have', 'VBP'), ('to', 'TO'), ('scroll', 'VB'), ('up', 'RB'), ('and', 'CC'), ('down', 'RB'), ('to', 'TO'), ('find', 'VB'), ('what', 'WP'), ('you', 'PRP'), (\"'re\", 'VBP'), ('looking', 'VBG'), ('for', 'IN'), ('(', 'NNP'), ('yes', 'UH'), (',', ','), ('this', 'DT'), ('is', 'VBZ'), ('minor', 'JJ'), (',', ','), ('but', 'CC'), ('not', 'RB'), ('when', 'WRB'), ('you', 'PRP'), (\"'re\", 'VBP'), ('trying', 'VBG'), ('to', 'TO'), ('keep', 'VB'), ('your', 'PRP$'), ('eye', 'NN'), ('on', 'IN'), ('the', 'DT'), ('road', 'NN'), ('!', '.'), (')', 'CD'), ('.', '.')]\n",
      "\n",
      "\n",
      "\n",
      "[('i', 'LS'), ('assumed', 'VBD'), ('they', 'PRP'), ('had', 'VBD'), ('exceptional', 'JJ'), ('service', 'NN'), (',', ','), ('but', 'CC'), ('their', 'PRP$'), ('reception', 'NN'), ('in', 'IN'), ('my', 'PRP$'), ('area', 'NN'), ('(', 'FW'), ('los', 'FW'), ('angeles', 'FW'), (')', 'FW'), ('is', 'VBZ'), ('horrendous', 'JJ'), ('.', '.')]\n",
      "\n",
      "\n",
      "\n",
      "[('also', 'RB'), (',', ','), ('their', 'PRP$'), ('t-zones', 'NN'), (',', ','), ('although', 'IN'), ('cheap', 'JJ'), ('(', 'NN'), ('$', '$'), ('4.99', 'CD'), ('/', ':'), ('mo.', 'NN'), (')', 'NN'), ('never', 'RB'), ('works', 'VBZ'), ('.', '.')]\n",
      "\n",
      "\n",
      "\n",
      "[('in', 'IN'), ('all', 'DT'), ('fairness', 'NN'), (',', ','), ('customer', 'NN'), ('reps', 'NNS'), ('are', 'VBP'), ('very', 'RB'), ('nice', 'JJ'), (',', ','), ('and', 'CC'), ('they', 'PRP'), ('(', 'VBP'), ('most', 'JJS'), ('of', 'IN'), ('them', 'PRP'), (')', 'CD'), ('try', 'NN'), ('hard', 'JJ'), ('to', 'TO'), ('answer', 'VB'), ('your', 'PRP$'), ('questions', 'NNS'), ('.', '.')]\n",
      "\n",
      "\n",
      "\n",
      "[('however', 'RB'), (',', ','), ('the', 'DT'), ('calls', 'NNS'), ('constantly', 'RB'), ('drop', 'VB'), ('in', 'IN'), ('my', 'PRP$'), ('area', 'NN'), ('and', 'CC'), ('i', 'FW'), ('experince', 'FW'), ('mega-static', 'JJ'), (',', ','), ('to', 'TO'), ('the', 'DT'), ('point', 'NN'), ('where', 'WRB'), ('i', 'FW'), (\"'d\", 'MD'), ('have', 'VB'), ('to', 'TO'), ('dial', 'VB'), ('numbers', 'NNS'), ('6-7', 'CD'), ('times', 'NNS'), ('to', 'TO'), ('get', 'VB'), ('a', 'DT'), ('clear', 'JJ'), ('line', 'NN'), ('.', '.')]\n",
      "\n",
      "\n",
      "\n",
      "[('i', 'LS'), (\"'m\", 'VB'), ('staying', 'VBG'), ('with', 'IN'), ('sprint', 'NN'), (',', ','), ('and', 'CC'), ('though', 'IN'), ('i', 'FW'), ('fear', 'VBP'), ('that', 'IN'), ('their', 'PRP$'), ('csr', 'NN'), ('is', 'VBZ'), (\"n't\", 'RB'), ('nearly', 'RB'), ('as', 'RB'), ('good', 'JJ'), ('as', 'IN'), ('t-mobile', 'NN'), (\"'s\", 'POS'), (',', ','), ('the', 'DT'), ('clarity', 'NN'), ('of', 'IN'), ('their', 'PRP$'), ('reception', 'NN'), ('is', 'VBZ'), ('exceptional', 'JJ'), ('.', '.')]\n",
      "\n",
      "\n",
      "\n",
      "[('overall', 'RB'), ('this', 'DT'), ('has', 'VBZ'), ('been', 'VBN'), ('my', 'PRP$'), ('favorite', 'JJ'), ('phone', 'NN'), ('that', 'IN'), ('i', 'LS'), ('have', 'VBP'), ('owned', 'VBN'), ('.', '.')]\n",
      "\n",
      "\n",
      "\n",
      "[('i', 'LS'), ('bought', 'VBD'), ('this', 'DT'), ('phone', 'NN'), ('for', 'IN'), ('my', 'PRP$'), ('trip', 'NN'), ('to', 'TO'), ('south', 'RB'), ('africa', 'VB'), ('and', 'CC'), ('it', 'PRP'), ('worked', 'VBD'), ('almost', 'RB'), ('perfectly', 'RB'), ('.', '.')]\n",
      "\n",
      "\n",
      "\n",
      "[('when', 'WRB'), ('you', 'PRP'), ('put', 'VBP'), ('this', 'DT'), ('phone', 'NN'), ('in', 'IN'), ('your', 'PRP$'), ('pocket', 'NN'), ('you', 'PRP'), ('forget', 'VBP'), ('it', 'PRP'), ('is', 'VBZ'), ('there', 'RB'), (';', ':'), ('it', 'PRP'), ('is', 'VBZ'), ('unbelievably', 'RB'), ('small', 'JJ'), ('and', 'CC'), ('oh', 'UH'), (',', ','), ('so', 'RB'), ('light', 'JJ'), ('.', '.')]\n",
      "\n",
      "\n",
      "\n",
      "[('this', 'DT'), ('is', 'VBZ'), ('a', 'DT'), ('benefit', 'NN'), ('for', 'IN'), ('many', 'JJ'), ('reasons', 'NNS'), (';', ':'), ('one', 'CD'), ('being', 'VBG'), ('just', 'RB'), ('for', 'IN'), ('appearance', 'NN'), (',', ','), ('your', 'PRP$'), ('pants', 'NNS'), ('wo', 'MD'), (\"n't\", 'RB'), ('be', 'VB'), ('bulging', 'VBG'), ('with', 'IN'), ('this', 'DT'), ('phone', 'NN'), ('in', 'IN'), ('your', 'PRP$'), ('pocket', 'NN'), ('.', '.')]\n",
      "\n",
      "\n",
      "\n",
      "[('size', 'NN'), ('-', ':'), ('extremely', 'RB'), ('small', 'JJ'), ('and', 'CC'), ('convenient', 'JJ'), ('will', 'MD'), ('fit', 'VB'), ('in', 'IN'), ('your', 'PRP$'), ('pocket', 'NN'), ('and', 'CC'), ('not', 'RB'), ('bother', 'VB'), ('you', 'PRP'), ('.', '.')]\n",
      "\n",
      "\n",
      "\n",
      "[('i', 'LS'), ('am', 'RB'), ('able', 'JJ'), ('to', 'TO'), ('carry', 'VB'), ('it', 'PRP'), ('close', 'RB'), ('to', 'TO'), ('my', 'PRP$'), ('body', 'NN'), (',', ','), ('in', 'IN'), ('places', 'NNS'), ('where', 'WRB'), ('other', 'JJ'), ('phones', 'NNS'), ('are', 'VBP'), ('not', 'RB'), ('so', 'RB'), ('easily', 'RB'), ('concealed', 'VBN'), ('.', '.')]\n",
      "\n",
      "\n",
      "\n",
      "[('but', 'CC'), (',', ','), ('then', 'RB'), ('again', 'RB'), (',', ','), ('the', 'DT'), ('ringer', 'NN'), ('can', 'MD'), ('be', 'VB'), ('so', 'RB'), ('loud', 'JJ'), ('that', 'IN'), ('i', 'LS'), ('heard', 'VBD'), ('it', 'PRP'), ('ringing', 'VBG'), ('inside', 'IN'), ('my', 'PRP$'), ('office', 'NN'), (',', ','), ('when', 'WRB'), ('i', 'LS'), ('was', 'VBD'), ('already', 'RB'), ('out', 'RB'), ('on', 'IN'), ('the', 'DT'), ('street', 'NN'), ('..', 'NN'), ('.', '.')]\n",
      "\n",
      "\n",
      "\n",
      "[('i', 'LS'), ('am', 'RB'), ('very', 'RB'), ('pleased', 'JJ'), ('with', 'IN'), ('its', 'PRP$'), ('quality', 'NN'), ('and', 'CC'), ('durability', 'NN'), ('.', '.')]\n",
      "\n",
      "\n",
      "\n",
      "[('its', 'PRP$'), ('speakerphone', 'NN'), ('option', 'NN'), ('allows', 'VBZ'), ('us', 'PRP'), ('to', 'TO'), ('do', 'VB'), ('long', 'JJ'), ('talks', 'NNS'), ('conveniently', 'RB'), (',', ','), ('lying', 'VBG'), ('on', 'IN'), ('bed', 'NN'), ('&#38;', 'CD'), ('phone', 'NN'), ('lying', 'VBG'), ('by', 'IN'), ('your', 'PRP$'), ('pillowside', 'NN'), ('.', '.')]\n",
      "\n",
      "\n",
      "\n",
      "[('i', 'LS'), ('am', 'RB'), ('enjoying', 'VBG'), ('my', 'PRP$'), ('phone', 'NN'), ('a', 'DT'), ('lot', 'NN'), ('....', ',')]\n",
      "\n",
      "\n",
      "\n",
      "[('i', 'LS'), ('love', 'VB'), ('the', 'DT'), ('fact', 'NN'), ('i', 'FW'), ('can', 'MD'), ('carry', 'VB'), ('it', 'PRP'), ('in', 'IN'), ('my', 'PRP$'), ('shirt', 'NN'), ('or', 'CC'), ('pants', 'NNS'), ('pocket', 'NN'), ('and', 'CC'), ('forget', 'VB'), ('about', 'IN'), ('it', 'PRP'), ('.', '.')]\n",
      "\n",
      "\n",
      "\n",
      "[('it', 'PRP'), ('has', 'VBZ'), ('lots', 'NNS'), ('of', 'IN'), ('features', 'NNS'), ('such', 'JJ'), ('as', 'IN'), ('the', 'DT'), ('calendar', 'NN'), ('which', 'WDT'), ('works', 'VBZ'), ('like', 'IN'), ('my', 'PRP$'), ('outlook', 'NN'), ('calendar', 'NN'), ('.', '.')]\n",
      "\n",
      "\n",
      "\n",
      "[('the', 'DT'), ('loud', 'JJ'), ('speaker', 'NN'), ('function', 'NN'), ('on', 'IN'), ('the', 'DT'), ('6610', 'CD'), ('is', 'VBZ'), ('great', 'JJ'), ('because', 'IN'), ('you', 'PRP'), ('do', 'VBP'), (\"n't\", 'RB'), ('need', 'VB'), ('to', 'TO'), ('put', 'VB'), ('your', 'PRP$'), ('phone', 'NN'), ('right', 'RB'), ('next', 'JJ'), ('to', 'TO'), ('your', 'PRP$'), ('ear', 'NN'), ('to', 'TO'), ('talk', 'VB'), ('.', '.')]\n",
      "\n",
      "\n",
      "\n",
      "[('i', 'LS'), ('like', 'IN'), ('my', 'PRP$'), ('phones', 'NNS'), ('to', 'TO'), ('be', 'VB'), ('small', 'JJ'), ('so', 'RB'), ('i', 'FW'), ('can', 'MD'), ('fit', 'VB'), ('it', 'PRP'), ('in', 'IN'), ('my', 'PRP$'), ('pockets', 'NNS'), ('.', '.')]\n",
      "\n",
      "\n",
      "\n",
      "[('regarding', 'VBG'), ('pc', 'NN'), ('software', 'NN'), ('support', 'NN'), ('nokia', 'NN'), ('suite', 'NN'), ('does', 'VBZ'), ('not', 'RB'), ('work', 'VB'), ('with', 'IN'), ('some', 'DT'), ('versions', 'NNS'), ('of', 'IN'), ('xp', 'NN'), ('as', 'IN'), ('i', 'FW'), ('tried', 'VBD'), ('to', 'TO'), ('connect', 'VB'), ('my', 'PRP$'), ('phone', 'NN'), ('via', 'IN'), ('infrared', 'JJ'), ('port', 'NN'), ('on', 'IN'), ('my', 'PRP$'), ('laptop', 'NN'), ('.', '.')]\n",
      "\n",
      "\n",
      "\n",
      "[('you', 'PRP'), ('can', 'MD'), ('do', 'VB'), ('*', 'NN'), ('so', 'IN'), ('*', 'NN'), ('much', 'RB'), ('more', 'RBR'), ('with', 'IN'), ('the', 'DT'), ('pc', 'NN'), ('suite', 'NN'), (',', ','), ('i.e.', 'FW'), ('free', 'JJ'), ('ringtones', 'NNS'), ('from', 'IN'), ('midi', 'JJ'), ('files', 'NNS'), (',', ','), ('free', 'JJ'), ('graphics', 'NNS'), ('from', 'IN'), ('any', 'DT'), ('picture', 'NN'), ('on', 'IN'), ('your', 'PRP$'), ('computer', 'NN'), (',', ','), ('and', 'CC'), ('if', 'IN'), ('you', 'PRP'), ('know', 'VBP'), ('how', 'WRB'), ('to', 'TO'), ('program', 'NN'), ('jme', 'NN'), ('you', 'PRP'), ('can', 'MD'), ('even', 'RB'), ('make', 'VB'), ('your', 'PRP$'), ('own', 'JJ'), ('apps', 'NNS'), ('/', ':'), ('games', 'NNS'), ('.', '.')]\n",
      "\n",
      "\n",
      "\n",
      "[('the', 'DT'), ('phone', 'NN'), (\"'s\", 'POS'), ('sound', 'JJ'), ('quality', 'NN'), ('is', 'VBZ'), ('great', 'JJ'), ('(', 'NN'), ('turn', 'VB'), ('up', 'RP'), ('the', 'DT'), ('volume', 'NN'), ('if', 'IN'), ('its', 'PRP$'), ('too', 'RB'), ('quiet', 'JJ'), (',', ','), ('people', 'NNS'), (',', ','), ('this', 'DT'), ('thing', 'NN'), ('will', 'MD'), ('get', 'VB'), ('loud', 'JJ'), (')', 'FW'), ('i', 'FW'), ('dont', 'NN'), ('have', 'VBP'), ('any', 'DT'), ('complaints', 'NNS'), ('about', 'IN'), ('this', 'DT'), ('phone', 'NN'), ('and', 'CC'), ('the', 'DT'), ('only', 'JJ'), ('thing', 'NN'), ('that', 'IN'), ('i', 'LS'), ('miss', 'VB'), ('from', 'IN'), ('my', 'PRP$'), ('8290', 'CD'), ('is', 'VBZ'), ('voice', 'NN'), ('dialing', 'NN'), ('.', '.')]\n",
      "\n",
      "\n",
      "\n",
      "[('the', 'DT'), ('first', 'JJ'), ('night', 'NN'), ('i', 'FW'), ('got', 'VBD'), ('this', 'DT'), ('phone', 'NN'), ('i', 'FW'), ('put', 'VB'), ('it', 'PRP'), ('next', 'JJ'), ('to', 'TO'), ('me', 'PRP'), ('when', 'WRB'), ('i', 'LS'), ('went', 'VBD'), ('to', 'TO'), ('bed', 'NN'), ('just', 'RB'), ('to', 'TO'), ('listen', 'VB'), ('to', 'TO'), ('my', 'PRP$'), ('favorite', 'JJ'), ('music', 'NN'), ('station', 'NN'), ('and', 'CC'), ('the', 'DT'), ('handset', 'NN'), ('itself', 'PRP'), ('doesnt', 'VBP'), ('weight', 'NN'), ('anything', 'NN'), ('its', 'PRP$'), ('too', 'RB'), ('light', 'JJ'), ('and', 'CC'), ('feel', 'VBP'), ('so', 'RB'), ('comfy', 'JJ'), ('with', 'IN'), ('it', 'PRP'), ('.', '.')]\n",
      "\n",
      "\n",
      "\n",
      "[('for', 'IN'), ('a', 'DT'), ('specific', 'JJ'), ('location', 'NN'), (',', ','), ('i', 'LS'), ('still', 'RB'), ('think', 'VB'), ('its', 'PRP$'), ('a', 'DT'), ('great', 'JJ'), ('phone', 'NN'), ('.', '.')]\n",
      "\n",
      "\n",
      "\n",
      "[('this', 'DT'), ('really', 'RB'), ('is', 'VBZ'), ('a', 'DT'), ('great', 'JJ'), ('little', 'JJ'), ('phone', 'NN'), (';', ':'), ('its', 'PRP$'), ('got', 'VBD'), ('nice', 'JJ'), ('features', 'NNS'), (',', ','), ('a', 'DT'), ('beatiful', 'JJ'), ('screen', 'NN'), (',', ','), ('great', 'JJ'), ('ergonomics', 'NNS'), (',', ','), ('and', 'CC'), ('its', 'PRP$'), ('tiny', 'JJ'), ('!', '.')]\n",
      "\n",
      "\n",
      "\n",
      "[('its', 'PRP$'), ('quiet', 'NN'), ('.', '.')]\n",
      "\n",
      "\n",
      "\n",
      "[('nokia', 'NN'), ('was', 'VBD'), ('my', 'PRP$'), ('first', 'JJ'), ('nonflip', 'JJ'), ('phone', 'NN'), (',', ','), ('and', 'CC'), ('i', 'LS'), (\"'m\", 'VBP'), ('glad', 'JJ'), ('i', 'LS'), ('decided', 'VBD'), ('to', 'TO'), ('go', 'VB'), ('with', 'IN'), ('them', 'PRP'), ('.', '.')]\n",
      "\n",
      "\n",
      "\n",
      "[('first', 'RB'), ('of', 'IN'), ('all', 'DT'), (',', ','), ('my', 'PRP$'), ('calls', 'NNS'), ('were', 'VBD'), ('loud', 'JJ'), ('and', 'CC'), ('clear', 'JJ'), (',', ','), ('unlike', 'IN'), ('with', 'IN'), ('sprint', 'NN'), ('.', '.')]\n",
      "\n",
      "\n",
      "\n",
      "[('i', 'LS'), ('could', 'MD'), ('make', 'VB'), ('phone', 'NN'), ('calls', 'NNS'), ('from', 'IN'), ('locations', 'NNS'), ('i', 'LS'), ('previously', 'RB'), ('could', 'MD'), ('not', 'RB'), ('(', 'VB'), ('like', 'IN'), ('my', 'PRP$'), ('apartment', 'NN'), (')', 'NN'), ('.', '.')]\n",
      "\n",
      "\n",
      "\n",
      "[('i', 'LS'), (\"'m\", 'VBP'), ('not', 'RB'), ('one', 'NN'), ('who', 'WP'), ('uses', 'VBZ'), ('web', 'NN'), ('browsing', 'NN'), (',', ','), ('so', 'IN'), ('this', 'DT'), ('phone', 'NN'), ('easily', 'RB'), ('met', 'VBD'), ('and', 'CC'), ('surpassed', 'VBD'), ('my', 'PRP$'), ('needs', 'NNS'), ('.', '.')]\n",
      "\n",
      "\n",
      "\n",
      "[('in', 'IN'), ('true', 'JJ'), ('nokia', 'NN'), ('style', 'NN'), (',', ','), ('the', 'DT'), ('phone', 'NN'), ('is', 'VBZ'), ('simple', 'JJ'), ('to', 'TO'), ('use', 'VB'), ('and', 'CC'), ('despite', 'IN'), ('its', 'PRP$'), ('delicate', 'JJ'), ('appearance', 'NN'), (',', ','), ('this', 'DT'), ('little', 'JJ'), ('guy', 'NN'), ('is', 'VBZ'), ('as', 'RB'), ('durable', 'JJ'), ('as', 'IN'), ('other', 'JJ'), ('nokias', 'FW'), ('i', 'FW'), ('have', 'VBP'), ('owned', 'VBN'), ('.', '.')]\n",
      "\n",
      "\n",
      "\n",
      "[('in', 'IN'), ('my', 'PRP$'), ('opinion', 'NN'), ('the', 'DT'), ('worst', 'JJS'), ('issue', 'NN'), ('on', 'IN'), ('this', 'DT'), ('phone', 'NN'), ('is', 'VBZ'), ('the', 'DT'), ('side-mounted', 'JJ'), ('volume', 'NN'), ('control', 'NN'), ('.', '.')]\n",
      "\n",
      "\n",
      "\n",
      "[('it', 'PRP'), ('has', 'VBZ'), ('great', 'JJ'), ('battery', 'NN'), ('life', 'NN'), (',', ','), ('fm', 'NN'), ('radio', 'NN'), (',', ','), ('excellent', 'JJ'), ('signal', 'NN'), (',', ','), ('hands', 'VBZ'), ('free', 'JJ'), ('speakerphone', 'NN'), ('(', 'NN'), ('which', 'WDT'), ('i', 'FW'), ('have', 'VBP'), ('to', 'TO'), ('say', 'VB'), ('is', 'VBZ'), ('probably', 'RB'), ('my', 'PRP$'), ('favorite', 'JJ'), ('function', 'NN'), (')', 'NN'), ('and', 'CC'), ('downloadable', 'JJ'), ('java', 'NN'), ('apps', 'NNS'), ('.', '.')]\n",
      "\n",
      "\n",
      "\n",
      "[('i', 'LS'), ('did', 'VBD'), ('a', 'DT'), ('ton', 'NN'), ('of', 'IN'), ('research', 'NN'), ('and', 'CC'), ('settled', 'VBN'), ('on', 'IN'), ('this', 'DT'), ('phone', 'NN'), ('because', 'IN'), ('of', 'IN'), ('the', 'DT'), ('small', 'JJ'), ('size', 'NN'), (',', ','), ('speakerphone', 'NN'), ('option', 'NN'), (',', ','), ('great', 'JJ'), ('priced', 'VBN'), ('calling', 'NN'), ('plan', 'NN'), ('and', 'CC'), ('access', 'NN'), ('to', 'TO'), ('my', 'PRP$'), ('corporate', 'JJ'), ('email', 'NN'), ('.', '.')]\n",
      "\n",
      "\n",
      "\n",
      "[('this', 'DT'), ('is', 'VBZ'), ('probably', 'RB'), ('your', 'PRP$'), ('best', 'JJS'), ('bet', 'NN'), ('if', 'IN'), ('you', 'PRP'), ('are', 'VBP'), ('looking', 'VBG'), ('for', 'IN'), ('a', 'DT'), ('phone', 'NN'), ('in', 'IN'), ('this', 'DT'), ('price', 'NN'), ('range', 'NN'), (',', ','), ('or', 'CC'), ('like', 'IN'), ('me', 'PRP'), (',', ','), ('do', 'VBP'), ('not', 'RB'), ('have', 'VB'), ('the', 'DT'), ('patience', 'NN'), ('to', 'TO'), ('deal', 'VB'), ('with', 'IN'), ('annoying', 'JJ'), ('flip', 'JJ'), ('phones', 'NNS'), ('.', '.')]\n",
      "\n",
      "\n",
      "\n",
      "[('1', 'CD'), ('month', 'NN'), (',', ','), ('no', 'DT'), ('problems', 'NNS'), (',', ','), ('great', 'JJ'), ('phone', 'NN'), ('i', 'FW'), (\"'m\", 'VBP'), ('very', 'RB'), ('pleased', 'JJ'), ('with', 'IN'), ('my', 'PRP$'), ('6610', 'CD'), ('phone', 'NN'), ('.', '.')]\n",
      "\n",
      "\n",
      "\n",
      "[('it', 'PRP'), ('is', 'VBZ'), ('extremely', 'RB'), ('light', 'JJ'), ('and', 'CC'), ('dissapears', 'NNS'), ('in', 'IN'), ('your', 'PRP$'), ('pocket', 'NN'), ('.', '.')]\n",
      "\n",
      "\n",
      "\n",
      "[('my', 'PRP$'), ('only', 'JJ'), ('gripe', 'NN'), ('about', 'IN'), ('the', 'DT'), ('hardware', 'NN'), ('is', 'VBZ'), ('the', 'DT'), ('buttons', 'NNS'), ('.', '.')]\n",
      "\n",
      "\n",
      "\n",
      "[('finally', 'RB'), (',', ','), ('i', 'FW'), ('reiterate', 'VB'), ('my', 'PRP$'), ('thumbs-down', 'NN'), ('rating', 'NN'), ('for', 'IN'), ('t-mobile', 'NN'), ('as', 'IN'), ('a', 'DT'), ('carrier', 'NN'), ('.', '.')]\n",
      "\n",
      "\n",
      "\n",
      "[('their', 'PRP$'), ('network', 'NN'), ('coverage', 'NN'), ('is', 'VBZ'), ('very', 'RB'), ('sporadic', 'JJ'), (',', ','), ('and', 'CC'), ('the', 'DT'), ('network', 'NN'), ('always', 'RB'), ('seems', 'VBZ'), ('overloaded', 'JJ'), (',', ','), ('resulting', 'VBG'), ('in', 'IN'), ('very', 'RB'), ('unpleasant', 'JJ'), ('calling', 'NN'), ('experience', 'NN'), ('.', '.')]\n",
      "\n",
      "\n",
      "\n",
      "[('it', 'PRP'), ('is', 'VBZ'), ('just', 'RB'), ('a', 'DT'), ('tad', 'NN'), ('small', 'JJ'), ('to', 'TO'), ('hold', 'VB'), ('to', 'TO'), ('your', 'PRP$'), ('ear', 'NN'), ('with', 'IN'), ('your', 'PRP$'), ('shoulder', 'NN'), (',', ','), ('but', 'CC'), ('that', 'DT'), ('is', 'VBZ'), ('solved', 'VBN'), ('with', 'IN'), ('the', 'DT'), ('very', 'RB'), ('comfortable', 'JJ'), ('handsfree', 'NN'), ('ear-piece', 'NN'), ('which', 'WDT'), ('is', 'VBZ'), ('included', 'VBN'), ('.', '.')]\n",
      "\n",
      "\n",
      "\n",
      "[('unfortunately', 'RB'), (',', ','), ('the', 'DT'), ('6610', 'CD'), ('does', 'VBZ'), ('not', 'RB'), ('offer', 'VB'), ('voice', 'NN'), ('dialing', 'VBG'), ('like', 'IN'), ('my', 'PRP$'), ('previous', 'JJ'), ('phone', 'NN'), (',', ','), ('but', 'CC'), ('the', 'DT'), ('other', 'JJ'), ('features', 'NNS'), ('it', 'PRP'), ('packs', 'VBZ'), ('outweighs', 'NNS'), ('this', 'DT'), ('shortcoming', 'NN'), ('.', '.')]\n",
      "\n",
      "\n",
      "\n",
      "[('one', 'CD'), ('downside', 'NN'), (':', ':'), ('as', 'IN'), ('of', 'IN'), ('this', 'DT'), ('writing', 'NN'), (',', ','), ('t-mobile', 'NN'), ('has', 'VBZ'), (\"n't\", 'RB'), ('updated', 'VBN'), ('their', 'PRP$'), ('t-zone', 'NN'), ('system', 'NN'), ('to', 'TO'), ('fully', 'RB'), ('support', 'VB'), ('the', 'DT'), ('6610', 'CD'), ('.', '.')]\n",
      "\n",
      "\n",
      "\n",
      "[('all', 'DT'), ('my', 'PRP$'), ('questions', 'NNS'), ('or', 'CC'), ('problems', 'NNS'), ('have', 'VBP'), ('been', 'VBN'), ('quickly', 'RB'), ('and', 'CC'), ('satisfactorily', 'RB'), ('resolved', 'VBN'), ('.', '.')]\n",
      "\n",
      "\n",
      "\n",
      "[('with', 'IN'), ('all', 'DT'), ('its', 'PRP$'), ('complicated', 'JJ'), ('features', 'NNS'), (',', ','), ('the', 'DT'), ('menus', 'NNS'), ('are', 'VBP'), ('easily', 'RB'), ('accessible', 'JJ'), ('and', 'CC'), ('the', 'DT'), ('quality', 'NN'), ('of', 'IN'), ('the', 'DT'), ('features', 'NNS'), ('is', 'VBZ'), ('great', 'JJ'), ('.', '.')]\n",
      "\n",
      "\n",
      "\n"
     ]
    }
   ],
   "source": [
    "for i in nokia_6610_df['Sentence']:\n",
    "    for j in i:\n",
    "        if 'PRP$' in j[1]:\n",
    "            print(i)\n",
    "            print('\\n\\n')\n",
    "            break"
   ]
  },
  {
   "cell_type": "code",
   "execution_count": null,
   "metadata": {},
   "outputs": [],
   "source": []
  }
 ],
 "metadata": {
  "kernelspec": {
   "display_name": "Python 3",
   "language": "python",
   "name": "python3"
  },
  "language_info": {
   "codemirror_mode": {
    "name": "ipython",
    "version": 3
   },
   "file_extension": ".py",
   "mimetype": "text/x-python",
   "name": "python",
   "nbconvert_exporter": "python",
   "pygments_lexer": "ipython3",
   "version": "3.7.4"
  }
 },
 "nbformat": 4,
 "nbformat_minor": 2
}
